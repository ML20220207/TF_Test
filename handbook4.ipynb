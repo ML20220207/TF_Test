{
  "nbformat": 4,
  "nbformat_minor": 0,
  "metadata": {
    "colab": {
      "name": "handbook4.ipynb",
      "provenance": [],
      "authorship_tag": "ABX9TyMAo0w10yksl9Ec5enmZVe+",
      "include_colab_link": true
    },
    "kernelspec": {
      "name": "python3",
      "display_name": "Python 3"
    },
    "language_info": {
      "name": "python"
    }
  },
  "cells": [
    {
      "cell_type": "markdown",
      "metadata": {
        "id": "view-in-github",
        "colab_type": "text"
      },
      "source": [
        "<a href=\"https://colab.research.google.com/github/ML20220207/TF_Test/blob/main/handbook4.ipynb\" target=\"_parent\"><img src=\"https://colab.research.google.com/assets/colab-badge.svg\" alt=\"Open In Colab\"/></a>"
      ]
    },
    {
      "cell_type": "markdown",
      "source": [
        "\n",
        "\n",
        "https://github.com/https-deeplearning-ai/tensorflow-1-public/blob/main/C3/W2/ungraded_labs/C3_W2_Lab_2_sarcasm_classifier.ipynb\n",
        "\n",
        "\n",
        "https://github.com/https-deeplearning-ai/tensorflow-1-public/tree/main/C3/W2/ungraded_labs\n",
        "\n",
        "\n",
        "\n",
        "Build models that identify the category of a piece of text using binary categorization\n",
        "\n",
        "Build models that identify the category of a piece of text using multi-class categorization\n",
        "\n",
        "Use word embeddings in your TensorFlow model"
      ],
      "metadata": {
        "id": "NOdcul0Hb0d1"
      }
    },
    {
      "cell_type": "markdown",
      "source": [
        "\n",
        "\n",
        "https://github.com/https-deeplearning-ai/tensorflow-1-public/tree/main/C3/W3/ungraded_labs\n",
        "\n",
        "Use LSTMs in your model to classify text for either binary or multi-class categorization.\n",
        "\n",
        "Add RNN and GRU layers to your model.\n",
        "\n",
        "Use RNNS, LSTMs, GRUs and CNNs in models that work with text."
      ],
      "metadata": {
        "id": "Qjb_aDx0idFp"
      }
    },
    {
      "cell_type": "markdown",
      "source": [
        "https://github.com/https-deeplearning-ai/tensorflow-1-public/tree/main/C3/W4/ungraded_labs\n",
        "\n",
        "Train LSTMs on existing text to generate text (such as songs and poetry)\n",
        "\n",
        "\n",
        "```\n",
        "predicted = model.predict_classes(token_list, verbose=0)\n",
        "\n",
        "need to be change to\n",
        "\n",
        "predicted = np.argmax(model.predict(token_list), axis=-1)\n",
        "```\n",
        "model.predict_classes() is deprecated and will be removed after 2021-01-01. Please use instead:* np.argmax(model.predict(x), axis=-1), if your model does multi-class classification (e.g. if it uses a softmax last-layer activation).* (model.predict(x) > 0.5).astype(\"int32\"), if your model does binary classification (e.g. if it uses a sigmoid last-layer activation).\n"
      ],
      "metadata": {
        "id": "YdDt48yaiqAt"
      }
    }
  ]
}