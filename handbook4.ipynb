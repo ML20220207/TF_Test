{
  "nbformat": 4,
  "nbformat_minor": 0,
  "metadata": {
    "colab": {
      "name": "handbook4.ipynb",
      "provenance": [],
      "authorship_tag": "ABX9TyPQXp2QY4qLCzebuA5wluvW",
      "include_colab_link": true
    },
    "kernelspec": {
      "name": "python3",
      "display_name": "Python 3"
    },
    "language_info": {
      "name": "python"
    }
  },
  "cells": [
    {
      "cell_type": "markdown",
      "metadata": {
        "id": "view-in-github",
        "colab_type": "text"
      },
      "source": [
        "<a href=\"https://colab.research.google.com/github/ML20220207/TF_Test/blob/main/handbook4.ipynb\" target=\"_parent\"><img src=\"https://colab.research.google.com/assets/colab-badge.svg\" alt=\"Open In Colab\"/></a>"
      ]
    },
    {
      "cell_type": "markdown",
      "source": [
        "\n",
        "\n",
        "https://github.com/https-deeplearning-ai/tensorflow-1-public/blob/main/C3/W2/ungraded_labs/C3_W2_Lab_2_sarcasm_classifier.ipynb\n",
        "\n",
        "\n",
        "https://github.com/https-deeplearning-ai/tensorflow-1-public/tree/main/C3/W2/ungraded_labs\n",
        "\n",
        "\n",
        "\n",
        "Build models that identify the category of a piece of text using binary categorization\n",
        "\n",
        "Build models that identify the category of a piece of text using multi-class categorization\n",
        "\n",
        "Use word embeddings in your TensorFlow model"
      ],
      "metadata": {
        "id": "NOdcul0Hb0d1"
      }
    },
    {
      "cell_type": "markdown",
      "source": [
        "\n",
        "\n",
        "https://github.com/https-deeplearning-ai/tensorflow-1-public/tree/main/C3/W3/ungraded_labs\n",
        "\n",
        "Use LSTMs in your model to classify text for either binary or multi-class categorization.\n",
        "\n",
        "Add RNN and GRU layers to your model.\n",
        "\n",
        "Use RNNS, LSTMs, GRUs and CNNs in models that work with text."
      ],
      "metadata": {
        "id": "Qjb_aDx0idFp"
      }
    },
    {
      "cell_type": "markdown",
      "source": [
        "https://github.com/https-deeplearning-ai/tensorflow-1-public/tree/main/C3/W4/ungraded_labs\n",
        "\n",
        "Train LSTMs on existing text to generate text (such as songs and poetry)"
      ],
      "metadata": {
        "id": "YdDt48yaiqAt"
      }
    }
  ]
}